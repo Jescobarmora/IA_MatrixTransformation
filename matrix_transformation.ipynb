{
 "cells": [
  {
   "cell_type": "code",
   "execution_count": 10,
   "metadata": {},
   "outputs": [
    {
     "data": {
      "text/plain": [
       "array([[0, 0, 1, 0, 0, 0],\n",
       "       [0, 1, 1, 0, 0, 0],\n",
       "       [0, 0, 1, 0, 0, 0],\n",
       "       [0, 0, 1, 0, 0, 0],\n",
       "       [0, 1, 1, 1, 0, 0],\n",
       "       [0, 0, 0, 0, 0, 0]])"
      ]
     },
     "execution_count": 10,
     "metadata": {},
     "output_type": "execute_result"
    }
   ],
   "source": [
    "import pandas as pd\n",
    "import numpy as np\n",
    "\n",
    "# Load the matrix from the Excel file located in the 'data' folder\n",
    "file_path = 'data/pixeles.xlsx'\n",
    "\n",
    "matrix_data = pd.read_excel(file_path, sheet_name=0, header=None)\n",
    "\n",
    "matrix = matrix_data.values\n",
    "matrix"
   ]
  },
  {
   "cell_type": "code",
   "execution_count": 11,
   "metadata": {},
   "outputs": [],
   "source": [
    "kernel_horizontal = np.array([[-1, -1, -1], [0, 0, 0], [1, 1, 1]])\n",
    "kernel_vertical = np.array([[-1, 0, 1], [-1, 0, 1], [-1, 0, 1]])"
   ]
  },
  {
   "cell_type": "code",
   "execution_count": 12,
   "metadata": {},
   "outputs": [
    {
     "name": "stdout",
     "output_type": "stream",
     "text": [
      "Deteccion de bordes Horizontales:\n",
      " [[ 0.  0.  0.  0.]\n",
      " [-1. -1.  0.  0.]\n",
      " [ 1.  2.  1.  1.]\n",
      " [-1. -1. -1.  0.]]\n",
      "\n",
      "Deteccion de bordes Verticales:\n",
      " [[ 3. -1. -3.  0.]\n",
      " [ 3. -1. -3.  0.]\n",
      " [ 3.  0. -3. -1.]\n",
      " [ 2.  0. -2. -1.]]\n"
     ]
    }
   ],
   "source": [
    "kernel_horizontal = np.array([[-1, -1, -1], [0, 0, 0], [1, 1, 1]])\n",
    "kernel_vertical = np.array([[-1, 0, 1], [-1, 0, 1], [-1, 0, 1]])\n",
    "\n",
    "def apply_convolution(matrix, kernel):\n",
    "    matrix_height, matrix_width = matrix.shape\n",
    "    kernel_height, kernel_width = kernel.shape\n",
    "    \n",
    "    output_matrix = np.zeros((matrix_height - 2, matrix_width - 2))\n",
    "    \n",
    "    for i in range(matrix_height - 2):\n",
    "        for j in range(matrix_width - 2):\n",
    "            region = matrix[i:i+kernel_height, j:j+kernel_width]\n",
    "            output_matrix[i, j] = np.sum(region * kernel)\n",
    "    \n",
    "    return output_matrix\n",
    "\n",
    "conv_horizontal = apply_convolution(matrix, kernel_horizontal)\n",
    "conv_vertical = apply_convolution(matrix, kernel_vertical)\n",
    "\n",
    "print(\"Deteccion de bordes Horizontales:\\n\", conv_horizontal)\n",
    "print(\"\\nDeteccion de bordes Verticales:\\n\", conv_vertical)"
   ]
  },
  {
   "cell_type": "code",
   "execution_count": 13,
   "metadata": {},
   "outputs": [
    {
     "name": "stdout",
     "output_type": "stream",
     "text": [
      "Matriz Original:\n",
      " [[0 0 1 0 0 0]\n",
      " [0 1 1 0 0 0]\n",
      " [0 0 1 0 0 0]\n",
      " [0 0 1 0 0 0]\n",
      " [0 1 1 1 0 0]\n",
      " [0 0 0 0 0 0]]\n",
      "\n",
      "Padded Matriz:\n",
      " [[0. 0. 0. 0. 0. 0. 0. 0. 0. 0.]\n",
      " [0. 0. 0. 0. 0. 0. 0. 0. 0. 0.]\n",
      " [0. 0. 0. 0. 1. 0. 0. 0. 0. 0.]\n",
      " [0. 0. 0. 1. 1. 0. 0. 0. 0. 0.]\n",
      " [0. 0. 0. 0. 1. 0. 0. 0. 0. 0.]\n",
      " [0. 0. 0. 0. 1. 0. 0. 0. 0. 0.]\n",
      " [0. 0. 0. 1. 1. 1. 0. 0. 0. 0.]\n",
      " [0. 0. 0. 0. 0. 0. 0. 0. 0. 0.]\n",
      " [0. 0. 0. 0. 0. 0. 0. 0. 0. 0.]\n",
      " [0. 0. 0. 0. 0. 0. 0. 0. 0. 0.]]\n"
     ]
    }
   ],
   "source": [
    "def apply_padding(matrix, padding_size):\n",
    "    original_height, original_width = matrix.shape\n",
    "    \n",
    "    padded_matrix = np.zeros((original_height + 2 * padding_size, original_width + 2 * padding_size))\n",
    "    \n",
    "    padded_matrix[padding_size:padding_size + original_height, padding_size:padding_size + original_width] = matrix\n",
    "    \n",
    "    return padded_matrix\n",
    "\n",
    "padding_size = 2\n",
    "padded_matrix = apply_padding(matrix, padding_size)\n",
    "\n",
    "print(\"Matriz Original:\\n\", matrix)\n",
    "print(\"\\nPadded Matriz:\\n\", padded_matrix)\n"
   ]
  },
  {
   "cell_type": "code",
   "execution_count": 14,
   "metadata": {},
   "outputs": [
    {
     "name": "stdout",
     "output_type": "stream",
     "text": [
      "Matriz Original:\n",
      " [[0 0 1 0 0 0]\n",
      " [0 1 1 0 0 0]\n",
      " [0 0 1 0 0 0]\n",
      " [0 0 1 0 0 0]\n",
      " [0 1 1 1 0 0]\n",
      " [0 0 0 0 0 0]]\n",
      "\n",
      "Strided Matriz (Stride=2):\n",
      " [[0. 0.]\n",
      " [1. 1.]]\n"
     ]
    }
   ],
   "source": [
    "def apply_stride(matrix, kernel, stride):\n",
    "\n",
    "    matrix_height, matrix_width = matrix.shape\n",
    "    kernel_height, kernel_width = kernel.shape\n",
    "    \n",
    "    output_height = (matrix_height - kernel_height) // stride + 1\n",
    "    output_width = (matrix_width - kernel_width) // stride + 1\n",
    "    \n",
    "    output_matrix = np.zeros((output_height, output_width))\n",
    "    \n",
    "    for i in range(0, matrix_height - kernel_height + 1, stride):\n",
    "        for j in range(0, matrix_width - kernel_width + 1, stride):\n",
    "            region = matrix[i:i+kernel_height, j:j+kernel_width]\n",
    "            output_matrix[i // stride, j // stride] = np.sum(region * kernel)\n",
    "    \n",
    "    return output_matrix\n",
    "\n",
    "stride_size = 2\n",
    "kernel_type = \"horizontal\"\n",
    "\n",
    "kernel_horizontal = np.array([[-1, -1, -1], [0, 0, 0], [1, 1, 1]])\n",
    "kernel_vertical = np.array([[-1, 0, 1], [-1, 0, 1], [-1, 0, 1]])\n",
    "\n",
    "if kernel_type == \"horizontal\":\n",
    "    kernel = kernel_horizontal\n",
    "else:\n",
    "    kernel = kernel_vertical\n",
    "\n",
    "strided_matrix = apply_stride(matrix, kernel, stride_size)\n",
    "\n",
    "print(\"Matriz Original:\\n\", matrix)\n",
    "print(\"\\nStrided Matriz (Stride={}):\\n\".format(stride_size), strided_matrix)\n"
   ]
  },
  {
   "cell_type": "code",
   "execution_count": 15,
   "metadata": {},
   "outputs": [
    {
     "name": "stdout",
     "output_type": "stream",
     "text": [
      "Mapa 1:\n",
      " [[-4.  0.  2.  0.]\n",
      " [-2.  0.  2.  0.]\n",
      " [-4. -2.  1.  0.]\n",
      " [-3.  0.  1.  1.]]\n",
      "\n",
      "\n",
      "Mapa 2:\n",
      " [[2. 3. 1. 0.]\n",
      " [2. 2. 1. 0.]\n",
      " [1. 3. 1. 0.]\n",
      " [1. 2. 2. 1.]]\n",
      "\n",
      "\n",
      "Mapa 3:\n",
      " [[ 0.  1. -1.  0.]\n",
      " [ 0.  1. -1.  0.]\n",
      " [-2. -1. -2. -1.]\n",
      " [ 1.  3.  1.  0.]]\n",
      "\n",
      "\n"
     ]
    }
   ],
   "source": [
    "def generate_kernels(n):\n",
    "    kernels = []\n",
    "    for _ in range(n):\n",
    "        kernel = np.random.randint(-1, 2, (3, 3))\n",
    "        kernels.append(kernel)\n",
    "    return kernels\n",
    "\n",
    "def apply_stacking(matrix, n):\n",
    "    kernels = generate_kernels(n)\n",
    "    \n",
    "    feature_maps = []\n",
    "    for kernel in kernels:\n",
    "        feature_map = apply_convolution(matrix, kernel)\n",
    "        feature_maps.append(feature_map)\n",
    "    \n",
    "    return feature_maps\n",
    "\n",
    "n_maps = 3\n",
    "feature_maps = apply_stacking(matrix, n_maps)\n",
    "\n",
    "for i, fmap in enumerate(feature_maps):\n",
    "    print(f\"Mapa {i+1}:\\n\", fmap)\n",
    "    print(\"\\n\")\n"
   ]
  },
  {
   "cell_type": "code",
   "execution_count": 16,
   "metadata": {},
   "outputs": [
    {
     "name": "stdout",
     "output_type": "stream",
     "text": [
      "Original Matrix:\n",
      " [[0 0 1 0 0 0]\n",
      " [0 1 1 0 0 0]\n",
      " [0 0 1 0 0 0]\n",
      " [0 0 1 0 0 0]\n",
      " [0 1 1 1 0 0]\n",
      " [0 0 0 0 0 0]]\n",
      "\n",
      "Pooled Matrix (Max Pooling, Stride=2):\n",
      " [[1. 1. 0.]\n",
      " [0. 1. 0.]\n",
      " [1. 1. 0.]]\n"
     ]
    }
   ],
   "source": [
    "def max_pooling(matrix, stride):\n",
    "    matrix_height, matrix_width = matrix.shape\n",
    "    \n",
    "    output_height = (matrix_height - 2) // stride + 1\n",
    "    output_width = (matrix_width - 2) // stride + 1\n",
    "    \n",
    "    pooled_matrix = np.zeros((output_height, output_width))\n",
    "    \n",
    "    for i in range(0, matrix_height - 1, stride):\n",
    "        for j in range(0, matrix_width - 1, stride):\n",
    "            region = matrix[i:i+2, j:j+2]\n",
    "            pooled_matrix[i // stride, j // stride] = np.max(region)\n",
    "    \n",
    "    return pooled_matrix\n",
    "\n",
    "stride_size = 2 \n",
    "pooled_matrix = max_pooling(matrix, stride_size)\n",
    "\n",
    "print(\"Matriz Original:\\n\", matrix)\n",
    "print(\"\\nPooled Matria (Max Pooling, Stride={}):\\n\".format(stride_size), pooled_matrix)"
   ]
  }
 ],
 "metadata": {
  "kernelspec": {
   "display_name": "api_class",
   "language": "python",
   "name": "python3"
  },
  "language_info": {
   "codemirror_mode": {
    "name": "ipython",
    "version": 3
   },
   "file_extension": ".py",
   "mimetype": "text/x-python",
   "name": "python",
   "nbconvert_exporter": "python",
   "pygments_lexer": "ipython3",
   "version": "3.10.12"
  }
 },
 "nbformat": 4,
 "nbformat_minor": 2
}
